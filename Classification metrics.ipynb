{
 "cells": [
  {
   "cell_type": "code",
   "execution_count": 1,
   "id": "4b47e594",
   "metadata": {},
   "outputs": [],
   "source": [
    "from sklearn.datasets import fetch_openml"
   ]
  },
  {
   "cell_type": "code",
   "execution_count": 2,
   "id": "027fd209",
   "metadata": {},
   "outputs": [],
   "source": [
    "mnist = fetch_openml('mnist_784',version=1)"
   ]
  },
  {
   "cell_type": "code",
   "execution_count": 3,
   "id": "5d5bdba7",
   "metadata": {},
   "outputs": [
    {
     "data": {
      "text/plain": [
       "dict_keys(['data', 'target', 'frame', 'categories', 'feature_names', 'target_names', 'DESCR', 'details', 'url'])"
      ]
     },
     "execution_count": 3,
     "metadata": {},
     "output_type": "execute_result"
    }
   ],
   "source": [
    "mnist.keys()"
   ]
  },
  {
   "cell_type": "code",
   "execution_count": 4,
   "id": "8e3f8491",
   "metadata": {},
   "outputs": [],
   "source": [
    "X, y = mnist['data'], mnist['target']"
   ]
  },
  {
   "cell_type": "code",
   "execution_count": 5,
   "id": "7003c811",
   "metadata": {},
   "outputs": [
    {
     "data": {
      "text/plain": [
       "(70000, 784)"
      ]
     },
     "execution_count": 5,
     "metadata": {},
     "output_type": "execute_result"
    }
   ],
   "source": [
    "X.shape"
   ]
  },
  {
   "cell_type": "code",
   "execution_count": 6,
   "id": "6cf9a725",
   "metadata": {},
   "outputs": [
    {
     "data": {
      "text/plain": [
       "(70000,)"
      ]
     },
     "execution_count": 6,
     "metadata": {},
     "output_type": "execute_result"
    }
   ],
   "source": [
    "y.shape"
   ]
  },
  {
   "cell_type": "code",
   "execution_count": 7,
   "id": "2f9aa5d5",
   "metadata": {},
   "outputs": [],
   "source": [
    "import matplotlib.pyplot as plt"
   ]
  },
  {
   "cell_type": "code",
   "execution_count": 8,
   "id": "e5f59755",
   "metadata": {},
   "outputs": [],
   "source": [
    "some_digit = X.values[0]\n",
    "some_digit_image = some_digit.reshape(28,28)"
   ]
  },
  {
   "cell_type": "code",
   "execution_count": 9,
   "id": "454a75fb",
   "metadata": {},
   "outputs": [
    {
     "data": {
      "text/plain": [
       "<matplotlib.image.AxesImage at 0x1c0ca882340>"
      ]
     },
     "execution_count": 9,
     "metadata": {},
     "output_type": "execute_result"
    },
    {
     "data": {
      "image/png": "[encoded data removed]",
      "text/plain": [
       "<Figure size 432x288 with 1 Axes>"
      ]
     },
     "metadata": {
      "needs_background": "light"
     },
     "output_type": "display_data"
    }
   ],
   "source": [
    "plt.imshow(some_digit_image, cmap='binary')"
   ]
  },
  {
   "cell_type": "code",
   "execution_count": 10,
   "id": "66a6ac19",
   "metadata": {},
   "outputs": [
    {
     "data": {
      "text/plain": [
       "'5'"
      ]
     },
     "execution_count": 10,
     "metadata": {},
     "output_type": "execute_result"
    }
   ],
   "source": [
    "y[0]"
   ]
  },
  {
   "cell_type": "markdown",
   "id": "b164bcc4",
   "metadata": {},
   "source": [
    "**Since the label is of string datatype, let's convert it into the integer datatype since most of the ML algorithms expect the lable to be in integer form**"
   ]
  },
  {
   "cell_type": "code",
   "execution_count": 11,
   "id": "84b13f07",
   "metadata": {},
   "outputs": [],
   "source": [
    "import numpy as np\n",
    "y = y.astype(np.uint8)"
   ]
  },
  {
   "cell_type": "code",
   "execution_count": 12,
   "id": "60ddeecb",
   "metadata": {},
   "outputs": [],
   "source": [
    "## splitting the data into the train and test\n",
    "## since the data is already shuffled for us, we won't use the scikit-learn's train_test_split class\n",
    "X_train, X_test, y_train, y_test = X[:60000], X[60000:], y[:60000], y[60000:]"
   ]
  },
  {
   "cell_type": "code",
   "execution_count": 13,
   "id": "705b552a",
   "metadata": {},
   "outputs": [],
   "source": [
    "## converting the problem from mulit-class to the binary one \n",
    "y_train_5 = (y_train==5)\n",
    "y_test_5 = (y_test==5)"
   ]
  },
  {
   "cell_type": "markdown",
   "id": "9a40a56d",
   "metadata": {},
   "source": [
    "### Training the model"
   ]
  },
  {
   "cell_type": "code",
   "execution_count": 16,
   "id": "df00f479",
   "metadata": {},
   "outputs": [],
   "source": [
    "from sklearn.linear_model import SGDClassifier\n",
    "\n",
    "sgd_clf = SGDClassifier(random_state=234)"
   ]
  },
  {
   "cell_type": "code",
   "execution_count": 17,
   "id": "3f854eae",
   "metadata": {},
   "outputs": [],
   "source": [
    "from sklearn.model_selection import cross_val_predict"
   ]
  },
  {
   "cell_type": "markdown",
   "id": "8edb9758",
   "metadata": {},
   "source": [
    "### Finding the predictions"
   ]
  },
  {
   "cell_type": "code",
   "execution_count": 18,
   "id": "96156d9b",
   "metadata": {},
   "outputs": [],
   "source": [
    "y_train_pred = cross_val_predict(sgd_clf, X_train, y_train_5, cv=3)"
   ]
  },
  {
   "cell_type": "markdown",
   "id": "e141465d",
   "metadata": {},
   "source": [
    "### Finding the confusion_matrix"
   ]
  },
  {
   "cell_type": "code",
   "execution_count": 19,
   "id": "5ca1350e",
   "metadata": {},
   "outputs": [
    {
     "data": {
      "text/plain": [
       "array([[53113,  1466],\n",
       "       [ 1541,  3880]], dtype=int64)"
      ]
     },
     "execution_count": 19,
     "metadata": {},
     "output_type": "execute_result"
    }
   ],
   "source": [
    "## finding the confusion matrix for the predictions\n",
    "from sklearn.metrics import confusion_matrix\n",
    "\n",
    "confusion_matrix(y_train_5, y_train_pred)"
   ]
  },
  {
   "cell_type": "markdown",
   "id": "537df780",
   "metadata": {},
   "source": [
    "### Finding the precision and recall score"
   ]
  },
  {
   "cell_type": "code",
   "execution_count": 20,
   "id": "3c72dd2e",
   "metadata": {},
   "outputs": [
    {
     "name": "stdout",
     "output_type": "stream",
     "text": [
      "Precision Score: 0.7257762813318369\n",
      "Recall Score: 0.7157351042243129\n"
     ]
    }
   ],
   "source": [
    "## finding the precision and recall score for the predictions\n",
    "\n",
    "from sklearn.metrics import precision_score, recall_score\n",
    "\n",
    "print(f\"Precision Score: {precision_score(y_train_5, y_train_pred)}\")\n",
    "print(f\"Recall Score: {recall_score(y_train_5, y_train_pred)}\")"
   ]
  },
  {
   "cell_type": "markdown",
   "id": "d4589e28",
   "metadata": {},
   "source": [
    "### Finding the f1 score"
   ]
  },
  {
   "cell_type": "code",
   "execution_count": 21,
   "id": "6b1e1bdd",
   "metadata": {},
   "outputs": [
    {
     "name": "stdout",
     "output_type": "stream",
     "text": [
      "f1 score: 0.7207207207207207\n"
     ]
    }
   ],
   "source": [
    "## finding the f1 score for the predictions\n",
    "\n",
    "from sklearn.metrics import f1_score\n",
    "\n",
    "print(f\"f1 score: {f1_score(y_train_5, y_train_pred)}\")"
   ]
  },
  {
   "cell_type": "markdown",
   "id": "7613e557",
   "metadata": {},
   "source": [
    "### Finding the scores for the instances using the decision function"
   ]
  },
  {
   "cell_type": "code",
   "execution_count": 22,
   "id": "1f614316",
   "metadata": {},
   "outputs": [
    {
     "data": {
      "text/plain": [
       "array([  8855.68772341, -13696.50008929, -22045.21948114, ...,\n",
       "         7649.78272151, -18055.12058863, -15312.10655183])"
      ]
     },
     "execution_count": 22,
     "metadata": {},
     "output_type": "execute_result"
    }
   ],
   "source": [
    "## plotting the precision-recall curve\n",
    "\n",
    "y_score = cross_val_predict(sgd_clf, X_train, y_train_5, cv=3, method='decision_function')\n",
    "y_score"
   ]
  },
  {
   "cell_type": "markdown",
   "id": "4a62995b",
   "metadata": {},
   "source": [
    "### Finding the precision, recall and thresholds using the scores obtained earlier"
   ]
  },
  {
   "cell_type": "code",
   "execution_count": 23,
   "id": "69f2d8c8",
   "metadata": {},
   "outputs": [],
   "source": [
    "from sklearn.metrics import precision_recall_curve\n",
    "\n",
    "precisions, recalls, thresholds = precision_recall_curve(y_train_5, y_score)"
   ]
  },
  {
   "cell_type": "code",
   "execution_count": 50,
   "id": "6bc5c833",
   "metadata": {},
   "outputs": [
    {
     "data": {
      "text/plain": [
       "(59970,)"
      ]
     },
     "execution_count": 50,
     "metadata": {},
     "output_type": "execute_result"
    }
   ],
   "source": [
    "precisions.shape"
   ]
  },
  {
   "cell_type": "code",
   "execution_count": 45,
   "id": "2ddbf761",
   "metadata": {},
   "outputs": [
    {
     "data": {
      "text/plain": [
       "(59970,)"
      ]
     },
     "execution_count": 45,
     "metadata": {},
     "output_type": "execute_result"
    }
   ],
   "source": [
    "recalls.shape"
   ]
  },
  {
   "cell_type": "code",
   "execution_count": 46,
   "id": "90a13803",
   "metadata": {},
   "outputs": [
    {
     "data": {
      "text/plain": [
       "(59969,)"
      ]
     },
     "execution_count": 46,
     "metadata": {},
     "output_type": "execute_result"
    }
   ],
   "source": [
    "thresholds.shape"
   ]
  },
  {
   "cell_type": "markdown",
   "id": "c9496366",
   "metadata": {},
   "source": [
    "**Here we can see that we got one extra value for threshold than for precision and recall and hence while plotting the graphs, we will skip the last value in the precisions and recalls**"
   ]
  },
  {
   "cell_type": "markdown",
   "id": "c51fd4e9",
   "metadata": {},
   "source": [
    "### Creating the function to plot precision and recall VS thresholds"
   ]
  },
  {
   "cell_type": "code",
   "execution_count": 58,
   "id": "3ad728b2",
   "metadata": {},
   "outputs": [],
   "source": [
    "import seaborn as sns\n",
    "def plot_precision_recall_VS_threshold(precisions, recalls, thresholds):\n",
    "    \n",
    "    sns.set_style('darkgrid')\n",
    "    plt.figure(figsize=(12,7))\n",
    "    plt.plot(thresholds, precisions[:-1], 'b--', label='Precision')\n",
    "    plt.plot(thresholds, recalls[:-1], 'g-', label='recall')\n",
    "    plt.legend(loc='best')\n",
    "    plt.xlabel('Threshold')\n",
    "    plt.ylabel('Precision and Recall')\n",
    "    plt.title('Precision and Recall VS Threshold')"
   ]
  },
  {
   "cell_type": "code",
   "execution_count": 59,
   "id": "6d38c382",
   "metadata": {},
   "outputs": [
    {
     "data": {
      "image/png": "[encoded data removed]",
      "text/plain": [
       "<Figure size 864x504 with 1 Axes>"
      ]
     },
     "metadata": {},
     "output_type": "display_data"
    }
   ],
   "source": [
    "plot_precision_recall_VS_threshold(precisions, recalls, thresholds)"
   ]
  },
  {
   "cell_type": "markdown",
   "id": "e7cd58e9",
   "metadata": {},
   "source": [
    "### Finding the threshold at which the precision value is at least 80"
   ]
  },
  {
   "cell_type": "code",
   "execution_count": 60,
   "id": "13a0f151",
   "metadata": {},
   "outputs": [
    {
     "data": {
      "text/plain": [
       "1.424737627850675"
      ]
     },
     "execution_count": 60,
     "metadata": {},
     "output_type": "execute_result"
    }
   ],
   "source": [
    "## here we can find the threshold that suits our requirement\n",
    "## let's say we have a requirement of a model having 80% precision then we can select the corresponding threshold\n",
    "## let's find the threshold that fulfills this requirement\n",
    "threshold_80 = thresholds[np.argmax(thresholds>=0.8)]\n",
    "threshold_80"
   ]
  },
  {
   "cell_type": "code",
   "execution_count": 63,
   "id": "e98b7394",
   "metadata": {},
   "outputs": [],
   "source": [
    "## using the precision_80 t0 classify \n",
    "y_train_pred_80 = (y_score >= threshold_80)"
   ]
  },
  {
   "cell_type": "code",
   "execution_count": 84,
   "id": "8b0d038c",
   "metadata": {},
   "outputs": [
    {
     "data": {
      "text/plain": [
       "array([ True, False, False, ...,  True, False, False])"
      ]
     },
     "execution_count": 84,
     "metadata": {},
     "output_type": "execute_result"
    }
   ],
   "source": [
    "y_train_pred_80"
   ]
  },
  {
   "cell_type": "markdown",
   "id": "c4806770",
   "metadata": {},
   "source": [
    "### Plotting precision VS recall"
   ]
  },
  {
   "cell_type": "code",
   "execution_count": 64,
   "id": "51daff1a",
   "metadata": {},
   "outputs": [
    {
     "data": {
      "text/plain": [
       "Text(0.5, 1.0, 'Precision VS Recall')"
      ]
     },
     "execution_count": 64,
     "metadata": {},
     "output_type": "execute_result"
    },
    {
     "data": {
      "image/png": "[encoded data removed]",
      "text/plain": [
       "<Figure size 864x504 with 1 Axes>"
      ]
     },
     "metadata": {},
     "output_type": "display_data"
    }
   ],
   "source": [
    "plt.figure(figsize=(12,7))\n",
    "plt.plot(recalls, precisions, 'm-')\n",
    "plt.xlabel('recall')\n",
    "plt.ylabel('precision')\n",
    "plt.title('Precision VS Recall')"
   ]
  },
  {
   "cell_type": "markdown",
   "id": "7c489098",
   "metadata": {},
   "source": [
    "### Plotting ROC curve"
   ]
  },
  {
   "cell_type": "code",
   "execution_count": 66,
   "id": "455f554b",
   "metadata": {},
   "outputs": [],
   "source": [
    "from sklearn.metrics import roc_curve\n",
    "\n",
    "fpr, tpr, thresholds = roc_curve(y_train_5, y_score)"
   ]
  },
  {
   "cell_type": "code",
   "execution_count": 71,
   "id": "badf3883",
   "metadata": {},
   "outputs": [],
   "source": [
    "def plot_roc(fpr, tpr, label=None):\n",
    "    sns.set_style('darkgrid')\n",
    "    plt.figure(figsize=(12,6))\n",
    "    plt.plot(fpr,tpr, 'm',linewidth=2, label=label)\n",
    "    plt.plot([0,1], [0,1], 'k--')\n",
    "    plt.xlabel('False positive rate')\n",
    "    plt.ylabel('True positive rate')\n",
    "    plt.title('ROC Curve')"
   ]
  },
  {
   "cell_type": "code",
   "execution_count": 72,
   "id": "547410fb",
   "metadata": {},
   "outputs": [
    {
     "data": {
      "image/png": "[encoded data removed]",
      "text/plain": [
       "<Figure size 864x432 with 1 Axes>"
      ]
     },
     "metadata": {},
     "output_type": "display_data"
    }
   ],
   "source": [
    "plot_roc(fpr, tpr, label='ROC Curve')"
   ]
  },
  {
   "cell_type": "markdown",
   "id": "1e6a0160",
   "metadata": {},
   "source": [
    "### finding the area under the ROC curve"
   ]
  },
  {
   "cell_type": "code",
   "execution_count": 74,
   "id": "3c90b999",
   "metadata": {},
   "outputs": [
    {
     "data": {
      "text/plain": [
       "0.9441680671926949"
      ]
     },
     "execution_count": 74,
     "metadata": {},
     "output_type": "execute_result"
    }
   ],
   "source": [
    "from sklearn.metrics import roc_auc_score\n",
    "\n",
    "roc_auc_score(y_train_5, y_score)"
   ]
  },
  {
   "cell_type": "markdown",
   "id": "34a5ba72",
   "metadata": {},
   "source": [
    "**Not every model has a decision_function method, instead of this we can also use predict_proba method.**"
   ]
  },
  {
   "cell_type": "code",
   "execution_count": 75,
   "id": "34c6f732",
   "metadata": {},
   "outputs": [],
   "source": [
    "from sklearn.ensemble import RandomForestClassifier\n",
    "forest_clf = RandomForestClassifier(random_state=234)"
   ]
  },
  {
   "cell_type": "code",
   "execution_count": 76,
   "id": "dea885a8",
   "metadata": {},
   "outputs": [],
   "source": [
    "y_proba_forest = cross_val_predict(forest_clf, X_train, y_train_5, cv=3, method='predict_proba')"
   ]
  },
  {
   "cell_type": "code",
   "execution_count": 77,
   "id": "0de2773c",
   "metadata": {},
   "outputs": [
    {
     "data": {
      "text/plain": [
       "array([[0.18, 0.82],\n",
       "       [0.96, 0.04],\n",
       "       [0.99, 0.01],\n",
       "       ...,\n",
       "       [0.02, 0.98],\n",
       "       [0.94, 0.06],\n",
       "       [0.92, 0.08]])"
      ]
     },
     "execution_count": 77,
     "metadata": {},
     "output_type": "execute_result"
    }
   ],
   "source": [
    "y_proba_forest"
   ]
  },
  {
   "cell_type": "code",
   "execution_count": 78,
   "id": "11a1b98d",
   "metadata": {},
   "outputs": [],
   "source": [
    "## getting the probabilities of the positive class\n",
    "y_scores_proba = y_proba_forest[:,1]"
   ]
  },
  {
   "cell_type": "code",
   "execution_count": 79,
   "id": "aa75d4fc",
   "metadata": {},
   "outputs": [
    {
     "data": {
      "text/plain": [
       "array([0.82, 0.04, 0.01, ..., 0.98, 0.06, 0.08])"
      ]
     },
     "execution_count": 79,
     "metadata": {},
     "output_type": "execute_result"
    }
   ],
   "source": [
    "y_scores_proba"
   ]
  },
  {
   "cell_type": "code",
   "execution_count": 80,
   "id": "278f17cb",
   "metadata": {},
   "outputs": [],
   "source": [
    "fpr_forest, tpr_forest, thresholds_forest = roc_curve(y_train_5, y_scores_proba)"
   ]
  },
  {
   "cell_type": "code",
   "execution_count": 81,
   "id": "cc2eb40f",
   "metadata": {},
   "outputs": [
    {
     "data": {
      "image/png": "[encoded data removed]",
      "text/plain": [
       "<Figure size 864x432 with 1 Axes>"
      ]
     },
     "metadata": {},
     "output_type": "display_data"
    }
   ],
   "source": [
    "plot_roc(fpr_forest, tpr_forest, label='ROC Curve')"
   ]
  },
  {
   "cell_type": "code",
   "execution_count": 83,
   "id": "1874d114",
   "metadata": {},
   "outputs": [
    {
     "data": {
      "text/plain": [
       "0.9983047509960186"
      ]
     },
     "execution_count": 83,
     "metadata": {},
     "output_type": "execute_result"
    }
   ],
   "source": [
    "roc_auc_score(y_train_5, y_scores_proba)"
   ]
  },
  {
   "cell_type": "code",
   "execution_count": null,
   "id": "695a5287",
   "metadata": {},
   "outputs": [],
   "source": []
  }
 ],
 "metadata": {
  "kernelspec": {
   "display_name": "Python 3 (ipykernel)",
   "language": "python",
   "name": "python3"
  },
  "language_info": {
   "codemirror_mode": {
    "name": "ipython",
    "version": 3
   },
   "file_extension": ".py",
   "mimetype": "text/x-python",
   "name": "python",
   "nbconvert_exporter": "python",
   "pygments_lexer": "ipython3",
   "version": "3.9.7"
  }
 },
 "nbformat": 4,
 "nbformat_minor": 5
}
